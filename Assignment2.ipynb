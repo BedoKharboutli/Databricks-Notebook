{
 "cells": [
  {
   "cell_type": "markdown",
   "metadata": {
    "application/vnd.databricks.v1+cell": {
     "cellMetadata": {},
     "inputWidgets": {},
     "nuid": "9eac3bbc-95e1-4dce-a722-bb66d56b1bcf",
     "showTitle": false,
     "title": ""
    }
   },
   "source": []
  },
  {
   "cell_type": "code",
   "execution_count": null,
   "metadata": {
    "application/vnd.databricks.v1+cell": {
     "cellMetadata": {
      "byteLimit": 2048000,
      "rowLimit": 10000
     },
     "inputWidgets": {},
     "nuid": "55c99b0c-beb5-4d0e-b4a7-da395b64d72a",
     "showTitle": false,
     "title": ""
    }
   },
   "outputs": [],
   "source": [
    "# Ändra denna till rätt sökväg:\n",
    "datafile = 'dbfs:/FileStore/shared_uploads/bedo.kharboutli@hotmail.com/kddcup_data_10_percent_corrected__1_-1.gz'\n",
    "\n",
    "# Ladda in filen och gör den sökbar genom en DataFrame och via SQL-syntax\n",
    "data = spark.read.format(\"csv\").option(\"header\", \"true\").load(datafile)\n",
    "data.createOrReplaceTempView('data')"
   ]
  },
  {
   "cell_type": "code",
   "execution_count": null,
   "metadata": {
    "application/vnd.databricks.v1+cell": {
     "cellMetadata": {
      "byteLimit": 2048000,
      "rowLimit": 10000
     },
     "inputWidgets": {},
     "nuid": "9ff54d89-bdba-43da-a17a-edff011511f3",
     "showTitle": false,
     "title": ""
    }
   },
   "outputs": [
    {
     "data": {
      "text/plain": [
       "494021"
      ]
     },
     "execution_count": 4,
     "metadata": {},
     "output_type": "execute_result"
    }
   ],
   "source": [
    "# Räkna antalet rader i datan\n",
    "data.count()"
   ]
  },
  {
   "cell_type": "code",
   "execution_count": null,
   "metadata": {
    "application/vnd.databricks.v1+cell": {
     "cellMetadata": {
      "byteLimit": 2048000,
      "rowLimit": 10000
     },
     "inputWidgets": {},
     "nuid": "0888317c-d5c5-474a-9e5f-531be4e80f10",
     "showTitle": false,
     "title": ""
    }
   },
   "outputs": [
    {
     "name": "stdout",
     "output_type": "stream",
     "text": [
      "+--------+-------------+-------+----+---------+---------+----+--------------+------+---+-----------------+---------+----------------+-----------+-------------+---------+-------------------+-----------+-----------------+------------------+-------------+--------------+-----+---------+-----------+---------------+-----------+---------------+-------------+-------------+------------------+--------------+------------------+----------------------+----------------------+---------------------------+---------------------------+--------------------+------------------------+--------------------+------------------------+-------+\n",
      "|duration|protocol_type|service|flag|src_bytes|dst_bytes|land|wrong_fragment|urgent|hot|num_failed_logins|logged_in|lnum_compromised|lroot_shell|lsu_attempted|lnum_root|lnum_file_creations|lnum_shells|lnum_access_files|lnum_outbound_cmds|is_host_login|is_guest_login|count|srv_count|serror_rate|srv_serror_rate|rerror_rate|srv_rerror_rate|same_srv_rate|diff_srv_rate|srv_diff_host_rate|dst_host_count|dst_host_srv_count|dst_host_same_srv_rate|dst_host_diff_srv_rate|dst_host_same_src_port_rate|dst_host_srv_diff_host_rate|dst_host_serror_rate|dst_host_srv_serror_rate|dst_host_rerror_rate|dst_host_srv_rerror_rate|  label|\n",
      "+--------+-------------+-------+----+---------+---------+----+--------------+------+---+-----------------+---------+----------------+-----------+-------------+---------+-------------------+-----------+-----------------+------------------+-------------+--------------+-----+---------+-----------+---------------+-----------+---------------+-------------+-------------+------------------+--------------+------------------+----------------------+----------------------+---------------------------+---------------------------+--------------------+------------------------+--------------------+------------------------+-------+\n",
      "|       0|          tcp|   http|  SF|      181|     5450|   0|             0|     0|  0|                0|        1|               0|          0|            0|        0|                  0|          0|                0|                 0|            0|             0|    8|        8|       0.00|           0.00|       0.00|           0.00|         1.00|         0.00|              0.00|             9|                 9|                  1.00|                  0.00|                       0.11|                       0.00|                0.00|                    0.00|                0.00|                    0.00|normal.|\n",
      "|       0|          tcp|   http|  SF|      239|      486|   0|             0|     0|  0|                0|        1|               0|          0|            0|        0|                  0|          0|                0|                 0|            0|             0|    8|        8|       0.00|           0.00|       0.00|           0.00|         1.00|         0.00|              0.00|            19|                19|                  1.00|                  0.00|                       0.05|                       0.00|                0.00|                    0.00|                0.00|                    0.00|normal.|\n",
      "|       0|          tcp|   http|  SF|      235|     1337|   0|             0|     0|  0|                0|        1|               0|          0|            0|        0|                  0|          0|                0|                 0|            0|             0|    8|        8|       0.00|           0.00|       0.00|           0.00|         1.00|         0.00|              0.00|            29|                29|                  1.00|                  0.00|                       0.03|                       0.00|                0.00|                    0.00|                0.00|                    0.00|normal.|\n",
      "|       0|          tcp|   http|  SF|      219|     1337|   0|             0|     0|  0|                0|        1|               0|          0|            0|        0|                  0|          0|                0|                 0|            0|             0|    6|        6|       0.00|           0.00|       0.00|           0.00|         1.00|         0.00|              0.00|            39|                39|                  1.00|                  0.00|                       0.03|                       0.00|                0.00|                    0.00|                0.00|                    0.00|normal.|\n",
      "|       0|          tcp|   http|  SF|      217|     2032|   0|             0|     0|  0|                0|        1|               0|          0|            0|        0|                  0|          0|                0|                 0|            0|             0|    6|        6|       0.00|           0.00|       0.00|           0.00|         1.00|         0.00|              0.00|            49|                49|                  1.00|                  0.00|                       0.02|                       0.00|                0.00|                    0.00|                0.00|                    0.00|normal.|\n",
      "|       0|          tcp|   http|  SF|      217|     2032|   0|             0|     0|  0|                0|        1|               0|          0|            0|        0|                  0|          0|                0|                 0|            0|             0|    6|        6|       0.00|           0.00|       0.00|           0.00|         1.00|         0.00|              0.00|            59|                59|                  1.00|                  0.00|                       0.02|                       0.00|                0.00|                    0.00|                0.00|                    0.00|normal.|\n",
      "|       0|          tcp|   http|  SF|      212|     1940|   0|             0|     0|  0|                0|        1|               0|          0|            0|        0|                  0|          0|                0|                 0|            0|             0|    1|        2|       0.00|           0.00|       0.00|           0.00|         1.00|         0.00|              1.00|             1|                69|                  1.00|                  0.00|                       1.00|                       0.04|                0.00|                    0.00|                0.00|                    0.00|normal.|\n",
      "|       0|          tcp|   http|  SF|      159|     4087|   0|             0|     0|  0|                0|        1|               0|          0|            0|        0|                  0|          0|                0|                 0|            0|             0|    5|        5|       0.00|           0.00|       0.00|           0.00|         1.00|         0.00|              0.00|            11|                79|                  1.00|                  0.00|                       0.09|                       0.04|                0.00|                    0.00|                0.00|                    0.00|normal.|\n",
      "|       0|          tcp|   http|  SF|      210|      151|   0|             0|     0|  0|                0|        1|               0|          0|            0|        0|                  0|          0|                0|                 0|            0|             0|    8|        8|       0.00|           0.00|       0.00|           0.00|         1.00|         0.00|              0.00|             8|                89|                  1.00|                  0.00|                       0.12|                       0.04|                0.00|                    0.00|                0.00|                    0.00|normal.|\n",
      "|       0|          tcp|   http|  SF|      212|      786|   0|             0|     0|  1|                0|        1|               0|          0|            0|        0|                  0|          0|                0|                 0|            0|             0|    8|        8|       0.00|           0.00|       0.00|           0.00|         1.00|         0.00|              0.00|             8|                99|                  1.00|                  0.00|                       0.12|                       0.05|                0.00|                    0.00|                0.00|                    0.00|normal.|\n",
      "|       0|          tcp|   http|  SF|      210|      624|   0|             0|     0|  0|                0|        1|               0|          0|            0|        0|                  0|          0|                0|                 0|            0|             0|   18|       18|       0.00|           0.00|       0.00|           0.00|         1.00|         0.00|              0.00|            18|               109|                  1.00|                  0.00|                       0.06|                       0.05|                0.00|                    0.00|                0.00|                    0.00|normal.|\n",
      "|       0|          tcp|   http|  SF|      177|     1985|   0|             0|     0|  0|                0|        1|               0|          0|            0|        0|                  0|          0|                0|                 0|            0|             0|    1|        1|       0.00|           0.00|       0.00|           0.00|         1.00|         0.00|              0.00|            28|               119|                  1.00|                  0.00|                       0.04|                       0.04|                0.00|                    0.00|                0.00|                    0.00|normal.|\n",
      "|       0|          tcp|   http|  SF|      222|      773|   0|             0|     0|  0|                0|        1|               0|          0|            0|        0|                  0|          0|                0|                 0|            0|             0|   11|       11|       0.00|           0.00|       0.00|           0.00|         1.00|         0.00|              0.00|            38|               129|                  1.00|                  0.00|                       0.03|                       0.04|                0.00|                    0.00|                0.00|                    0.00|normal.|\n",
      "|       0|          tcp|   http|  SF|      256|     1169|   0|             0|     0|  0|                0|        1|               0|          0|            0|        0|                  0|          0|                0|                 0|            0|             0|    4|        4|       0.00|           0.00|       0.00|           0.00|         1.00|         0.00|              0.00|             4|               139|                  1.00|                  0.00|                       0.25|                       0.04|                0.00|                    0.00|                0.00|                    0.00|normal.|\n",
      "|       0|          tcp|   http|  SF|      241|      259|   0|             0|     0|  0|                0|        1|               0|          0|            0|        0|                  0|          0|                0|                 0|            0|             0|    1|        1|       0.00|           0.00|       0.00|           0.00|         1.00|         0.00|              0.00|            14|               149|                  1.00|                  0.00|                       0.07|                       0.04|                0.00|                    0.00|                0.00|                    0.00|normal.|\n",
      "|       0|          tcp|   http|  SF|      260|     1837|   0|             0|     0|  0|                0|        1|               0|          0|            0|        0|                  0|          0|                0|                 0|            0|             0|   11|       11|       0.00|           0.00|       0.00|           0.00|         1.00|         0.00|              0.00|            24|               159|                  1.00|                  0.00|                       0.04|                       0.04|                0.00|                    0.00|                0.00|                    0.00|normal.|\n",
      "|       0|          tcp|   http|  SF|      241|      261|   0|             0|     0|  0|                0|        1|               0|          0|            0|        0|                  0|          0|                0|                 0|            0|             0|    2|        2|       0.00|           0.00|       0.00|           0.00|         1.00|         0.00|              0.00|            34|               169|                  1.00|                  0.00|                       0.03|                       0.04|                0.00|                    0.00|                0.00|                    0.00|normal.|\n",
      "|       0|          tcp|   http|  SF|      257|      818|   0|             0|     0|  0|                0|        1|               0|          0|            0|        0|                  0|          0|                0|                 0|            0|             0|   12|       12|       0.00|           0.00|       0.00|           0.00|         1.00|         0.00|              0.00|            44|               179|                  1.00|                  0.00|                       0.02|                       0.03|                0.00|                    0.00|                0.00|                    0.00|normal.|\n",
      "|       0|          tcp|   http|  SF|      233|      255|   0|             0|     0|  0|                0|        1|               0|          0|            0|        0|                  0|          0|                0|                 0|            0|             0|    2|        8|       0.00|           0.00|       0.00|           0.00|         1.00|         0.00|              0.25|            54|               189|                  1.00|                  0.00|                       0.02|                       0.03|                0.00|                    0.00|                0.00|                    0.00|normal.|\n",
      "|       0|          tcp|   http|  SF|      233|      504|   0|             0|     0|  0|                0|        1|               0|          0|            0|        0|                  0|          0|                0|                 0|            0|             0|    7|        7|       0.00|           0.00|       0.00|           0.00|         1.00|         0.00|              0.00|            64|               199|                  1.00|                  0.00|                       0.02|                       0.03|                0.00|                    0.00|                0.00|                    0.00|normal.|\n",
      "+--------+-------------+-------+----+---------+---------+----+--------------+------+---+-----------------+---------+----------------+-----------+-------------+---------+-------------------+-----------+-----------------+------------------+-------------+--------------+-----+---------+-----------+---------------+-----------+---------------+-------------+-------------+------------------+--------------+------------------+----------------------+----------------------+---------------------------+---------------------------+--------------------+------------------------+--------------------+------------------------+-------+\n",
      "only showing top 20 rows\n",
      "\n"
     ]
    }
   ],
   "source": [
    "# Visa de första 20 raderna\n",
    "data.show(20)"
   ]
  },
  {
   "cell_type": "code",
   "execution_count": null,
   "metadata": {
    "application/vnd.databricks.v1+cell": {
     "cellMetadata": {
      "byteLimit": 2048000,
      "rowLimit": 10000
     },
     "inputWidgets": {},
     "nuid": "83bc4f1e-aeea-41a9-8a73-ac1671f058cd",
     "showTitle": false,
     "title": ""
    }
   },
   "outputs": [
    {
     "name": "stdout",
     "output_type": "stream",
     "text": [
      "+--------+---------+\n",
      "|duration|dst_bytes|\n",
      "+--------+---------+\n",
      "|    5057|        0|\n",
      "|    5059|        0|\n",
      "|    5051|        0|\n",
      "|    5056|        0|\n",
      "|    5051|        0|\n",
      "|    5039|        0|\n",
      "|    5062|        0|\n",
      "|    5041|        0|\n",
      "|    5056|        0|\n",
      "|    5064|        0|\n",
      "|    5043|        0|\n",
      "|    5061|        0|\n",
      "|    5049|        0|\n",
      "|    5061|        0|\n",
      "|    5048|        0|\n",
      "|    5047|        0|\n",
      "|    5044|        0|\n",
      "|    5063|        0|\n",
      "|    5068|        0|\n",
      "|    5062|        0|\n",
      "+--------+---------+\n",
      "only showing top 20 rows\n",
      "\n"
     ]
    }
   ],
   "source": [
    "# Här är ett exempel på en sökning i datan\n",
    "interactions = spark.sql(\"\"\"\n",
    "SELECT duration, dst_bytes FROM data WHERE protocol_type = 'tcp' AND duration > 1000 AND dst_bytes = 0\n",
    "\"\"\")\n",
    "interactions.show()"
   ]
  },
  {
   "cell_type": "code",
   "execution_count": null,
   "metadata": {
    "application/vnd.databricks.v1+cell": {
     "cellMetadata": {
      "byteLimit": 2048000,
      "rowLimit": 10000
     },
     "inputWidgets": {},
     "nuid": "c22f9d1e-b4fc-483d-aa73-4dd770502c35",
     "showTitle": false,
     "title": ""
    }
   },
   "outputs": [
    {
     "name": "stdout",
     "output_type": "stream",
     "text": [
      "root\n",
      " |-- duration: string (nullable = true)\n",
      " |-- protocol_type: string (nullable = true)\n",
      " |-- service: string (nullable = true)\n",
      " |-- flag: string (nullable = true)\n",
      " |-- src_bytes: string (nullable = true)\n",
      " |-- dst_bytes: string (nullable = true)\n",
      " |-- land: string (nullable = true)\n",
      " |-- wrong_fragment: string (nullable = true)\n",
      " |-- urgent: string (nullable = true)\n",
      " |-- hot: string (nullable = true)\n",
      " |-- num_failed_logins: string (nullable = true)\n",
      " |-- logged_in: string (nullable = true)\n",
      " |-- lnum_compromised: string (nullable = true)\n",
      " |-- lroot_shell: string (nullable = true)\n",
      " |-- lsu_attempted: string (nullable = true)\n",
      " |-- lnum_root: string (nullable = true)\n",
      " |-- lnum_file_creations: string (nullable = true)\n",
      " |-- lnum_shells: string (nullable = true)\n",
      " |-- lnum_access_files: string (nullable = true)\n",
      " |-- lnum_outbound_cmds: string (nullable = true)\n",
      " |-- is_host_login: string (nullable = true)\n",
      " |-- is_guest_login: string (nullable = true)\n",
      " |-- count: string (nullable = true)\n",
      " |-- srv_count: string (nullable = true)\n",
      " |-- serror_rate: string (nullable = true)\n",
      " |-- srv_serror_rate: string (nullable = true)\n",
      " |-- rerror_rate: string (nullable = true)\n",
      " |-- srv_rerror_rate: string (nullable = true)\n",
      " |-- same_srv_rate: string (nullable = true)\n",
      " |-- diff_srv_rate: string (nullable = true)\n",
      " |-- srv_diff_host_rate: string (nullable = true)\n",
      " |-- dst_host_count: string (nullable = true)\n",
      " |-- dst_host_srv_count: string (nullable = true)\n",
      " |-- dst_host_same_srv_rate: string (nullable = true)\n",
      " |-- dst_host_diff_srv_rate: string (nullable = true)\n",
      " |-- dst_host_same_src_port_rate: string (nullable = true)\n",
      " |-- dst_host_srv_diff_host_rate: string (nullable = true)\n",
      " |-- dst_host_serror_rate: string (nullable = true)\n",
      " |-- dst_host_srv_serror_rate: string (nullable = true)\n",
      " |-- dst_host_rerror_rate: string (nullable = true)\n",
      " |-- dst_host_srv_rerror_rate: string (nullable = true)\n",
      " |-- label: string (nullable = true)\n",
      "\n"
     ]
    }
   ],
   "source": [
    "# Vi kan använda printSchema() för att visa vilka kolumner det finns\n",
    "data.printSchema()"
   ]
  },
  {
   "cell_type": "code",
   "execution_count": null,
   "metadata": {
    "application/vnd.databricks.v1+cell": {
     "cellMetadata": {
      "byteLimit": 2048000,
      "rowLimit": 10000
     },
     "inputWidgets": {},
     "nuid": "832894d3-dfce-45eb-a86d-cc3572a0154c",
     "showTitle": false,
     "title": ""
    }
   },
   "outputs": [
    {
     "name": "stdout",
     "output_type": "stream",
     "text": [
      "+-------------+------+\n",
      "|protocol_type| count|\n",
      "+-------------+------+\n",
      "|          tcp|190065|\n",
      "|          udp| 20354|\n",
      "|         icmp|283602|\n",
      "+-------------+------+\n",
      "\n"
     ]
    }
   ],
   "source": [
    "# Exempel på gruppering av data (Spark-syntax, ej SQL-syntax)\n",
    "data.select(\"protocol_type\", \"duration\", \"dst_bytes\").groupBy(\"protocol_type\").count().show()"
   ]
  },
  {
   "cell_type": "code",
   "execution_count": null,
   "metadata": {
    "application/vnd.databricks.v1+cell": {
     "cellMetadata": {
      "byteLimit": 2048000,
      "rowLimit": 10000
     },
     "inputWidgets": {},
     "nuid": "f0cbb4aa-1317-4931-8a89-a846fbcd9d44",
     "showTitle": false,
     "title": ""
    }
   },
   "outputs": [
    {
     "name": "stdout",
     "output_type": "stream",
     "text": [
      "+-------------+-----+\n",
      "|protocol_type|count|\n",
      "+-------------+-----+\n",
      "|          tcp|  139|\n",
      "+-------------+-----+\n",
      "\n"
     ]
    }
   ],
   "source": [
    "data.select(\"protocol_type\", \"duration\", \"dst_bytes\").filter(data.duration>1000).filter(data.dst_bytes==0).groupBy(\"protocol_type\").count().show()"
   ]
  },
  {
   "cell_type": "markdown",
   "metadata": {
    "application/vnd.databricks.v1+cell": {
     "cellMetadata": {},
     "inputWidgets": {},
     "nuid": "f3ca447c-b3f5-4f5d-b80a-29f066e852ff",
     "showTitle": false,
     "title": ""
    }
   },
   "source": [
    "## Answering the questions\n"
   ]
  },
  {
   "cell_type": "code",
   "execution_count": null,
   "metadata": {
    "application/vnd.databricks.v1+cell": {
     "cellMetadata": {
      "byteLimit": 2048000,
      "rowLimit": 10000
     },
     "inputWidgets": {},
     "nuid": "8f467d5b-95ae-44ef-aa0c-3da78d0951bd",
     "showTitle": false,
     "title": ""
    }
   },
   "outputs": [
    {
     "name": "stdout",
     "output_type": "stream",
     "text": [
      "Protokoll som finns representerade i datan:\n",
      "tcp\n",
      "udp\n",
      "icmp\n"
     ]
    }
   ],
   "source": [
    "# Kod kod kod\n",
    "# 1. Vilka protokoll finns representerade i datan?\n",
    "protocols = spark.sql(\"SELECT DISTINCT protocol_type FROM data\").collect()\n",
    "print(\"Protokoll som finns representerade i datan:\")\n",
    "for protocol in protocols:\n",
    "    print(protocol[0])"
   ]
  },
  {
   "cell_type": "code",
   "execution_count": null,
   "metadata": {
    "application/vnd.databricks.v1+cell": {
     "cellMetadata": {
      "byteLimit": 2048000,
      "rowLimit": 10000
     },
     "inputWidgets": {},
     "nuid": "21a88172-8a92-4a0e-bbe6-9f7f8fc9c1d4",
     "showTitle": false,
     "title": ""
    }
   },
   "outputs": [
    {
     "name": "stdout",
     "output_type": "stream",
     "text": [
      "Antal tjänster som använder TCP-protokollet: 57\n",
      "Antal tjänster som använder UDP-protokollet: 5\n",
      "Antal tjänster som använder ICMP-protokollet: 6\n"
     ]
    }
   ],
   "source": [
    "# 2. Hur många tjänster (services) är det som använder protkollet...\n",
    "# TCP\n",
    "tcp_services_count = spark.sql(\"SELECT COUNT(DISTINCT service) AS tcp_count FROM data WHERE protocol_type = 'tcp'\").collect()[0]['tcp_count']\n",
    "print(\"Antal tjänster som använder TCP-protokollet:\", tcp_services_count)\n",
    "\n",
    "# UDP\n",
    "udp_services_count = spark.sql(\"SELECT COUNT(DISTINCT service) AS udp_count FROM data WHERE protocol_type = 'udp'\").collect()[0]['udp_count']\n",
    "print(\"Antal tjänster som använder UDP-protokollet:\", udp_services_count)\n",
    "\n",
    "# ICMP\n",
    "icmp_services_count = spark.sql(\"SELECT COUNT(DISTINCT service) AS icmp_count FROM data WHERE protocol_type = 'icmp'\").collect()[0]['icmp_count']\n",
    "print(\"Antal tjänster som använder ICMP-protokollet:\", icmp_services_count)\n"
   ]
  },
  {
   "cell_type": "code",
   "execution_count": null,
   "metadata": {
    "application/vnd.databricks.v1+cell": {
     "cellMetadata": {
      "byteLimit": 2048000,
      "rowLimit": 10000
     },
     "inputWidgets": {},
     "nuid": "ba298137-d341-464d-81f3-3e6918030ba3",
     "showTitle": false,
     "title": ""
    }
   },
   "outputs": [
    {
     "name": "stdout",
     "output_type": "stream",
     "text": [
      "Antal attacker som använder TCP-protokollet: 113252\n",
      "Antal attacker som använder UDP-protokollet: 1177\n",
      "Antal attacker som använder ICMP-protokollet: 282314\n"
     ]
    }
   ],
   "source": [
    "# 3.1. Hur många paket är klassade som en del av en attack, och använder protkollet…\n",
    "\n",
    "# TCP\n",
    "attack_tcp_count = spark.sql(\"SELECT COUNT(*) AS attack_tcp_count FROM data WHERE protocol_type = 'tcp' AND label != 'normal.'\").collect()[0]['attack_tcp_count']\n",
    "print(\"Antal attacker som använder TCP-protokollet:\", attack_tcp_count)\n",
    "\n",
    "# UDP\n",
    "attack_udp_count = spark.sql(\"SELECT COUNT(*) AS attack_udp_count FROM data WHERE protocol_type = 'udp' AND label != 'normal.'\").collect()[0]['attack_udp_count']\n",
    "print(\"Antal attacker som använder UDP-protokollet:\", attack_udp_count)\n",
    "\n",
    "# ICMP\n",
    "attack_icmp_count = spark.sql(\"SELECT COUNT(*) AS attack_icmp_count FROM data WHERE protocol_type = 'icmp' AND label != 'normal.'\").collect()[0]['attack_icmp_count']\n",
    "print(\"Antal attacker som använder ICMP-protokollet:\", attack_icmp_count)"
   ]
  },
  {
   "cell_type": "code",
   "execution_count": null,
   "metadata": {
    "application/vnd.databricks.v1+cell": {
     "cellMetadata": {
      "byteLimit": 2048000,
      "rowLimit": 10000
     },
     "inputWidgets": {},
     "nuid": "853b829d-eedc-4679-a6bf-579d7ca2822b",
     "showTitle": false,
     "title": ""
    }
   },
   "outputs": [
    {
     "name": "stdout",
     "output_type": "stream",
     "text": [
      "80.31 %\n"
     ]
    }
   ],
   "source": [
    "# 3.2. Hur många procent av det totala antalet paket (avrundat till hela procent) har en label som inte är ”normal.”?\n",
    "\n",
    "total_packets = spark.sql(\"SELECT COUNT(*) AS total_packets FROM data\").collect()[0]['total_packets']\n",
    "attack_packets = spark.sql(\"SELECT COUNT(*) AS attack_packets FROM data WHERE label != 'normal.'\").collect()[0]['attack_packets']\n",
    "attack_percentage = (attack_packets / total_packets) * 100\n",
    "print(round(attack_percentage, 2), \"%\")\n"
   ]
  },
  {
   "cell_type": "code",
   "execution_count": null,
   "metadata": {
    "application/vnd.databricks.v1+cell": {
     "cellMetadata": {
      "byteLimit": 2048000,
      "rowLimit": 10000
     },
     "inputWidgets": {},
     "nuid": "2637e9e7-1bdb-477b-b4dc-2f64445cd37e",
     "showTitle": false,
     "title": ""
    }
   },
   "outputs": [
    {
     "name": "stdout",
     "output_type": "stream",
     "text": [
      "Antal ICMP-paket som är klassade som en del av en attack, men inte en 'smurf'-attack: 282314\n"
     ]
    }
   ],
   "source": [
    "# 3.3. Hur många ICMP-paket är klassade som en del av en attack, men är inte en så kallad ”smurf”-attack?\n",
    "\n",
    "icmp_attack_not_smurf_count = spark.sql(\"SELECT COUNT(*) AS icmp_attack_not_smurf_count FROM data WHERE protocol_type = 'icmp' AND label != 'normal.' AND service != 'smurf'\").collect()[0]['icmp_attack_not_smurf_count']\n",
    "print(\"Antal ICMP-paket som är klassade som en del av en attack, men inte en 'smurf'-attack:\", icmp_attack_not_smurf_count)"
   ]
  }
 ],
 "metadata": {
  "application/vnd.databricks.v1+notebook": {
   "dashboards": [],
   "language": "python",
   "notebookMetadata": {
    "pythonIndentUnit": 4
   },
   "notebookName": "Assignment",
   "widgets": {}
  },
  "language_info": {
   "name": "python"
  }
 },
 "nbformat": 4,
 "nbformat_minor": 0
}
